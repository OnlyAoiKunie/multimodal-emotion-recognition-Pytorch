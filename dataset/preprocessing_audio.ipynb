{
 "cells": [
  {
   "cell_type": "code",
   "execution_count": 10,
   "metadata": {},
   "outputs": [],
   "source": [
    "import pickle\n",
    "import os\n",
    "import librosa\n",
    "import glob\n",
    "import numpy as np\n",
    "dir = \"IEMOCAP_full_release\"\n",
    "data = []\n",
    "label = []\n",
    "file_dir = []\n",
    "emotion_label = {}\n",
    "for speakerDir in os.listdir(dir):\n",
    "    if speakerDir[0] == 'S': #Session1.2.3..\n",
    "        speech_dir = os.path.join(dir , speakerDir , \"sentences/wav\") #語音資料夾\n",
    "        speech_labelDir = os.path.join(dir , speakerDir , \"dialog/EmoEvaluation\") #標籤資料夾\n",
    "        for sess in os.listdir(speech_dir):\n",
    "            label_txt = speech_labelDir + '/' + sess + '.txt'\n",
    "            with open(label_txt,'r') as read_txt:\n",
    "                while True:\n",
    "                    line = read_txt.readline()\n",
    "                    if not line:\n",
    "                        break\n",
    "                    if(line[0] == '['):\n",
    "                        t = line.split()\n",
    "                        emotion_label[t[3]] = t[4]\n",
    "            #emotion_label {file_name:emotion}\n",
    "\n",
    "            wav_file = os.path.join(speech_dir,sess,'*.wav')\n",
    "            files = glob.glob(wav_file)\n",
    "            for file in files:\n",
    "                wavname = file.split(\"/\")[-1][:-4]\n",
    "                emotion = emotion_label[wavname]\n",
    "                if emotion in ['hap' , 'ang' , 'neu' , 'sad' , 'exc']:\n",
    "                    y , sr = librosa.load(file)\n",
    "                    data.append(librosa.feature.mfcc(y=y,sr=sr,n_mfcc=39).T) #(40 , frame number) 每個frame的第0 , 1 , 2 ... 40係數 -> transpose\n",
    "                    label.append('hap' if emotion =='exc' else emotion)\n",
    "                    file_dir.append(wavname)\n",
    "f = open('./IEMOCAP_audio.pkl' , 'wb')\n",
    "pickle.dump((data , label , file_dir) , f)   \n",
    "f.close()          \n",
    "\n",
    "                    \n",
    "\n",
    "\n",
    "        \n"
   ]
  },
  {
   "cell_type": "code",
   "execution_count": 11,
   "metadata": {},
   "outputs": [],
   "source": [
    "def readpkl():\n",
    "    f = open('./IEMOCAP_audio.pkl' , 'rb')\n",
    "    data , label , file_dir = pickle.load(f)\n",
    "    print(data[0].shape ,len(label) , len(file_dir))\n",
    "    "
   ]
  },
  {
   "cell_type": "code",
   "execution_count": 12,
   "metadata": {},
   "outputs": [
    {
     "name": "stdout",
     "output_type": "stream",
     "text": [
      "(104, 39) 5531 5531\n"
     ]
    }
   ],
   "source": [
    "readpkl()"
   ]
  }
 ],
 "metadata": {
  "kernelspec": {
   "display_name": "Python 3",
   "language": "python",
   "name": "python3"
  },
  "language_info": {
   "codemirror_mode": {
    "name": "ipython",
    "version": 3
   },
   "file_extension": ".py",
   "mimetype": "text/x-python",
   "name": "python",
   "nbconvert_exporter": "python",
   "pygments_lexer": "ipython3",
   "version": "3.6.13"
  },
  "vscode": {
   "interpreter": {
    "hash": "ffba58e3c4b17c108b38b95a9af871f811cd7bf299ee7dd16f3773300c9a11b4"
   }
  }
 },
 "nbformat": 4,
 "nbformat_minor": 2
}
