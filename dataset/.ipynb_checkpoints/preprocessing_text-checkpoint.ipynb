{
 "cells": [
  {
   "cell_type": "code",
   "execution_count": 4,
   "metadata": {},
   "outputs": [
    {
     "ename": "SyntaxError",
     "evalue": "invalid syntax (<ipython-input-4-bc737ba9a384>, line 37)",
     "output_type": "error",
     "traceback": [
      "\u001b[0;36m  File \u001b[0;32m\"<ipython-input-4-bc737ba9a384>\"\u001b[0;36m, line \u001b[0;32m37\u001b[0m\n\u001b[0;31m    catch:\u001b[0m\n\u001b[0m        ^\u001b[0m\n\u001b[0;31mSyntaxError\u001b[0m\u001b[0;31m:\u001b[0m invalid syntax\n"
     ]
    }
   ],
   "source": [
    "import pickle\n",
    "import os\n",
    "import librosa\n",
    "import glob\n",
    "dir = \"IEMOCAP_full_release\"\n",
    "for speakerDir in os.listdir(dir):\n",
    "    if speakerDir[0] == 'S': #Session1.2.3..\n",
    "        text_dir = os.path.join(dir , speakerDir , \"dialog/transcriptions\") #文字資料夾\n",
    "        speech_dir = os.path.join(dir , speakerDir , \"sentences/wav\") #語音資料夾\n",
    "        speech_labelDir = os.path.join(dir , speakerDir , \"dialog/EmoEvaluation\") #標籤資料夾\n",
    "        data = []\n",
    "        label = []\n",
    "        file_dir = []\n",
    "        for sess in os.listdir(speech_dir):\n",
    "            label_txt = speech_labelDir + '/' + sess + '.txt'\n",
    "            emotion_label = {}\n",
    "            with open(label_txt,'r') as read_txt:\n",
    "                while True:\n",
    "                    line = read_txt.readline()\n",
    "                    if not line:\n",
    "                        break\n",
    "                    if(line[0] == '['):\n",
    "                        t = line.split()\n",
    "                        emotion_label[t[3]] = t[4]\n",
    "            #emotion_label {file_name:emotion}\n",
    "\n",
    "        for file in os.listdir(text_dir):\n",
    "            file = os.path.join(text_dir , file)\n",
    "            with open(file , 'r') as read_txt:\n",
    "                while True:\n",
    "                    line = read_txt.readline()\n",
    "                    if not line:\n",
    "                        break\n",
    "                    try:\n",
    "                        t = line.split(' ' , 2)\n",
    "                        print(t[2])\n",
    "                    catch:\n",
    "                        print(\"Error\")\n",
    "                        print(line)\n",
    "                    \n",
    "                    \n",
    "                    \n",
    "\n",
    "            \n",
    "            \n",
    "            \n",
    "                    \n",
    "\n",
    "\n",
    "        \n"
   ]
  },
  {
   "cell_type": "code",
   "execution_count": null,
   "metadata": {},
   "outputs": [],
   "source": []
  }
 ],
 "metadata": {
  "kernelspec": {
   "display_name": "Python 3",
   "language": "python",
   "name": "python3"
  },
  "language_info": {
   "codemirror_mode": {
    "name": "ipython",
    "version": 3
   },
   "file_extension": ".py",
   "mimetype": "text/x-python",
   "name": "python",
   "nbconvert_exporter": "python",
   "pygments_lexer": "ipython3",
   "version": "3.6.13"
  },
  "vscode": {
   "interpreter": {
    "hash": "ffba58e3c4b17c108b38b95a9af871f811cd7bf299ee7dd16f3773300c9a11b4"
   }
  }
 },
 "nbformat": 4,
 "nbformat_minor": 2
}
